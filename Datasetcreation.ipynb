{
 "cells": [
  {
   "cell_type": "code",
   "execution_count": 1,
   "id": "689e7a62",
   "metadata": {},
   "outputs": [
    {
     "name": "stderr",
     "output_type": "stream",
     "text": [
      "Processing Videos: 100%|███████████████████████| 400/400 [19:56<00:00,  2.99s/it]"
     ]
    },
    {
     "name": "stdout",
     "output_type": "stream",
     "text": [
      "Processing complete.\n"
     ]
    },
    {
     "name": "stderr",
     "output_type": "stream",
     "text": [
      "\n"
     ]
    }
   ],
   "source": [
    "import cv2\n",
    "import dlib\n",
    "import json\n",
    "import os\n",
    "from tqdm import tqdm\n",
    "\n",
    "# Load the metadata from JSON file\n",
    "metadata_file = 'train_sample_videos/metadata.json'\n",
    "with open(metadata_file, 'r') as json_file:\n",
    "    metadata = json.load(json_file)\n",
    "\n",
    "# Initialize face detector from dlib\n",
    "detector = dlib.get_frontal_face_detector()\n",
    "\n",
    "# Folder to save the dataset\n",
    "dataset_folder = 'dataset'\n",
    "os.makedirs(dataset_folder, exist_ok=True)\n",
    "\n",
    "# Create folders for 'fake' and 'true'\n",
    "fake_folder = os.path.join(dataset_folder, 'fake')\n",
    "true_folder = os.path.join(dataset_folder, 'true')\n",
    "os.makedirs(fake_folder, exist_ok=True)\n",
    "os.makedirs(true_folder, exist_ok=True)\n",
    "\n",
    "# Limit on the number of frames to extract per video\n",
    "max_frames_per_video = 8\n",
    "\n",
    "# Iterate through each video in metadata, extract up to 15 frames with faces, and save in the dataset\n",
    "total_videos = len(metadata)\n",
    "progress_bar = tqdm(total=total_videos, desc='Processing Videos')\n",
    "\n",
    "for video_filename, video_info in metadata.items():\n",
    "    video_path = os.path.join('train_sample_videos', video_filename)\n",
    "    label = video_info['label']\n",
    "\n",
    "    cap = cv2.VideoCapture(video_path)\n",
    "    frame_count = int(cap.get(cv2.CAP_PROP_FRAME_COUNT))\n",
    "\n",
    "    extracted_frames = 0\n",
    "\n",
    "    for frame_id in range(frame_count):\n",
    "        ret, frame = cap.read()\n",
    "        if not ret or extracted_frames >= max_frames_per_video:\n",
    "            break\n",
    "\n",
    "        gray = cv2.cvtColor(frame, cv2.COLOR_BGR2GRAY)\n",
    "        faces = detector(gray)\n",
    "\n",
    "        if faces:\n",
    "            for face_id, face in enumerate(faces):\n",
    "                x, y, w, h = face.left(), face.top(), face.width(), face.height()\n",
    "                face_img = frame[y:y+h, x:x+w]\n",
    "\n",
    "                # Check if the face image is not empty before writing\n",
    "                if not face_img.size == 0:\n",
    "                    # Save face in the corresponding folder\n",
    "                    folder = true_folder if label == 'REAL' else fake_folder\n",
    "                    filename = f'{os.path.basename(video_path)}_frame_{frame_id}.png'\n",
    "                    filepath = os.path.join(folder, filename)\n",
    "                    cv2.imwrite(filepath, face_img)\n",
    "\n",
    "                    extracted_frames += 1\n",
    "                    if extracted_frames >= max_frames_per_video:\n",
    "                        break\n",
    "\n",
    "    cap.release()\n",
    "    progress_bar.update(1)\n",
    "\n",
    "progress_bar.close()\n",
    "print(\"Processing complete.\")\n"
   ]
  }
 ],
 "metadata": {
  "kernelspec": {
   "display_name": "Python 3 (ipykernel)",
   "language": "python",
   "name": "python3"
  },
  "language_info": {
   "codemirror_mode": {
    "name": "ipython",
    "version": 3
   },
   "file_extension": ".py",
   "mimetype": "text/x-python",
   "name": "python",
   "nbconvert_exporter": "python",
   "pygments_lexer": "ipython3",
   "version": "3.9.16"
  }
 },
 "nbformat": 4,
 "nbformat_minor": 5
}
